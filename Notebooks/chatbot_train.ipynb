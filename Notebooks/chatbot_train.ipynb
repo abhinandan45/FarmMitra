{
 "cells": [
  {
   "cell_type": "code",
   "execution_count": 66,
   "id": "5a41b762",
   "metadata": {},
   "outputs": [],
   "source": [
    "import pandas as pd\n",
    "import numpy as np\n",
    "import tensorflow as tf\n",
    "from tensorflow.keras.models import Sequential, load_model\n",
    "from tensorflow.keras.layers import Embedding, LSTM, Dense, TimeDistributed, RepeatVector\n",
    "from tensorflow.keras.preprocessing.text import Tokenizer\n",
    "from tensorflow.keras.preprocessing.sequence import pad_sequences\n",
    "import pickle\n"
   ]
  },
  {
   "cell_type": "code",
   "execution_count": 45,
   "id": "9dac178d",
   "metadata": {},
   "outputs": [
    {
     "data": {
      "text/html": [
       "<div>\n",
       "<style scoped>\n",
       "    .dataframe tbody tr th:only-of-type {\n",
       "        vertical-align: middle;\n",
       "    }\n",
       "\n",
       "    .dataframe tbody tr th {\n",
       "        vertical-align: top;\n",
       "    }\n",
       "\n",
       "    .dataframe thead th {\n",
       "        text-align: right;\n",
       "    }\n",
       "</style>\n",
       "<table border=\"1\" class=\"dataframe\">\n",
       "  <thead>\n",
       "    <tr style=\"text-align: right;\">\n",
       "      <th></th>\n",
       "      <th>Question</th>\n",
       "      <th>Answer</th>\n",
       "    </tr>\n",
       "  </thead>\n",
       "  <tbody>\n",
       "    <tr>\n",
       "      <th>0</th>\n",
       "      <td>मिट्टी की जांच (soil testing) क्यों करवानी चाह...</td>\n",
       "      <td>,\"मिट्टी की जांच करवाना खेती के लिए बहुत ज़रूर...</td>\n",
       "    </tr>\n",
       "    <tr>\n",
       "      <th>1</th>\n",
       "      <td>जैविक खाद (organic fertilizer) क्या होती है और...</td>\n",
       "      <td>,\"जैविक खाद वो होती है जो प्राकृतिक चीज़ों जैस...</td>\n",
       "    </tr>\n",
       "    <tr>\n",
       "      <th>2</th>\n",
       "      <td>घर पर केंचुआ खाद (vermicompost) कैसे बनाएं?</td>\n",
       "      <td>,\"केंचुआ खाद (vermicompost) बनाने के लिए कुछ आ...</td>\n",
       "    </tr>\n",
       "    <tr>\n",
       "      <th>3</th>\n",
       "      <td>मिट्टी में नाइट्रोजन (Nitrogen),फास्फोरस (Phos...</td>\n",
       "      <td>, \"ये तीनों मुख्य पोषक तत्व (macronutrients) ह...</td>\n",
       "    </tr>\n",
       "    <tr>\n",
       "      <th>4</th>\n",
       "      <td>हरी खाद (Green Manure) क्या है और इसे कैसे इस्...</td>\n",
       "      <td>,\"हरी खाद (Green Manure) उन पौधों को कहते हैं ...</td>\n",
       "    </tr>\n",
       "  </tbody>\n",
       "</table>\n",
       "</div>"
      ],
      "text/plain": [
       "                                            Question  \\\n",
       "0  मिट्टी की जांच (soil testing) क्यों करवानी चाह...   \n",
       "1  जैविक खाद (organic fertilizer) क्या होती है और...   \n",
       "2        घर पर केंचुआ खाद (vermicompost) कैसे बनाएं?   \n",
       "3  मिट्टी में नाइट्रोजन (Nitrogen),फास्फोरस (Phos...   \n",
       "4  हरी खाद (Green Manure) क्या है और इसे कैसे इस्...   \n",
       "\n",
       "                                              Answer  \n",
       "0  ,\"मिट्टी की जांच करवाना खेती के लिए बहुत ज़रूर...  \n",
       "1  ,\"जैविक खाद वो होती है जो प्राकृतिक चीज़ों जैस...  \n",
       "2  ,\"केंचुआ खाद (vermicompost) बनाने के लिए कुछ आ...  \n",
       "3  , \"ये तीनों मुख्य पोषक तत्व (macronutrients) ह...  \n",
       "4  ,\"हरी खाद (Green Manure) उन पौधों को कहते हैं ...  "
      ]
     },
     "execution_count": 45,
     "metadata": {},
     "output_type": "execute_result"
    }
   ],
   "source": [
    "data = pd.read_csv(r\"C:\\Users\\abhinandan\\Desktop\\FarmMitra\\Data\\Farming_QA.csv\")\n",
    "data.head()"
   ]
  }
 ],
 "metadata": {
  "kernelspec": {
   "display_name": "Python 3",
   "language": "python",
   "name": "python3"
  },
  "language_info": {
   "codemirror_mode": {
    "name": "ipython",
    "version": 3
   },
   "file_extension": ".py",
   "mimetype": "text/x-python",
   "name": "python",
   "nbconvert_exporter": "python",
   "pygments_lexer": "ipython3",
   "version": "3.11.9"
  }
 },
 "nbformat": 4,
 "nbformat_minor": 5
}
